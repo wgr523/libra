{
 "cells": [
  {
   "cell_type": "markdown",
   "metadata": {},
   "source": [
    "## Run twins test (use another shell terminal)\n",
    "Run twins test and output log to a temp file by this\n",
    "`cargo xtest -p consensus twins_proposer_test -- --nocapture 2> /tmp/libra.log`"
   ]
  },
  {
   "cell_type": "code",
   "execution_count": null,
   "metadata": {},
   "outputs": [],
   "source": [
    "import re\n",
    "import json\n",
    "from collections import Counter\n",
    "from collections import defaultdict\n",
    "\n",
    "#twin_pattern = re.compile(r'TwinId\\s*{\\s*id\\s*:\\s*(\\S*)\\s*,\\s*author\\s*:\\s*(\\S*)\\s*}')\n",
    "qc_pattern = re.compile(r'([0-9]+)-node-twins.*({\"quorum_cert\":.*})')\n",
    "#commit_pattern = re.compile(r'([0-9]+)-node-twins.*({\"commit_qc_proposed_id\":.*})')"
   ]
  },
  {
   "cell_type": "markdown",
   "metadata": {},
   "source": [
    "## parse the forensic log of twins test"
   ]
  },
  {
   "cell_type": "code",
   "execution_count": null,
   "metadata": {},
   "outputs": [],
   "source": [
    "libra_twins_forensic_log = '/tmp/libra.log'\n",
    "\n",
    "twin_nodes = {}\n",
    "qcs = defaultdict(dict) # block hash -> qc\n",
    "commit_qcs = defaultdict(dict) # block id -> grandparent id (the commit block)\n",
    "\n",
    "# with open(libra_twins_forensic_log) as fin:\n",
    "#     for line in fin:\n",
    "#         m = twin_pattern.search(line)\n",
    "#         if m is not None:\n",
    "#             twin_nodes[m.group(1)]=m.group(2)\n",
    "#             qcs[m.group(1)]={}\n",
    "#             commit_qcs[m.group(1)]={}\n",
    "with open(libra_twins_forensic_log) as fin:\n",
    "    for line in fin:\n",
    "        m = qc_pattern.search(line)\n",
    "        if m is not None:\n",
    "            d = json.loads(m.group(2))\n",
    "            r = d[\"quorum_cert\"][\"vote_data\"][\"proposed\"][\"round\"] # round/view\n",
    "            h = d[\"quorum_cert\"][\"vote_data\"][\"proposed\"][\"id\"] # block hash/ proposed id\n",
    "#             p = d[\"quorum_cert\"][\"vote_data\"][\"parent\"][\"id\"] # parent hash\n",
    "            grand_h = d[\"quorum_cert\"][\"signed_ledger_info\"][\"V0\"][\"ledger_info\"][\"commit_info\"][\"id\"] # grandparent hash/ commit id\n",
    "            qcs[m.group(1)][h]=d[\"quorum_cert\"]\n",
    "#         m = commit_pattern.search(line)\n",
    "#         if m is not None:\n",
    "#             d = json.loads(m.group(2))\n",
    "#             commit_qcs[m.group(1)][d[\"commit_qc_proposed_id\"]]=d[\"commit_qc_commit_id\"]\n"
   ]
  },
  {
   "cell_type": "markdown",
   "metadata": {},
   "source": [
    "## output all qcs\n",
    "(for now we can check if there is disagreement by hand...)"
   ]
  },
  {
   "cell_type": "code",
   "execution_count": null,
   "metadata": {},
   "outputs": [],
   "source": [
    "for i in range(6):\n",
    "    a=str(i)\n",
    "    for _qc in qcs[a].values():\n",
    "        r = _qc[\"vote_data\"][\"proposed\"][\"round\"]\n",
    "        h = _qc[\"vote_data\"][\"proposed\"][\"id\"]\n",
    "        print('node {} qc for {} at round {}'.format(i,h[:6],r))"
   ]
  },
  {
   "cell_type": "code",
   "execution_count": null,
   "metadata": {},
   "outputs": [],
   "source": [
    "def hotstuff_forensic_within_view(qc_1, qc_2):\n",
    "    epoch_1 = qc_1[\"vote_data\"][\"proposed\"][\"epoch\"]\n",
    "    epoch_2 = qc_2[\"vote_data\"][\"proposed\"][\"epoch\"]\n",
    "    round_1 = qc_1[\"vote_data\"][\"proposed\"][\"round\"]\n",
    "    round_2 = qc_2[\"vote_data\"][\"proposed\"][\"round\"]\n",
    "    id_1 = qc_1[\"signed_ledger_info\"][\"V0\"][\"ledger_info\"][\"commit_info\"][\"id\"]\n",
    "    id_2 = qc_2[\"signed_ledger_info\"][\"V0\"][\"ledger_info\"][\"commit_info\"][\"id\"]\n",
    "    assert epoch_1 == epoch_2\n",
    "    assert round_1 == round_2\n",
    "    assert id_1 != id_2\n",
    "    # omit the signature checking\n",
    "    signers_1 = qc_1[\"signed_ledger_info\"][\"V0\"][\"signatures\"]\n",
    "    signers_2 = qc_2[\"signed_ledger_info\"][\"V0\"][\"signatures\"]\n",
    "    signers_1 = set(signers_1.keys())\n",
    "    signers_2 = set(signers_2.keys())\n",
    "    return signers_1.intersection(signers_2)"
   ]
  },
  {
   "cell_type": "code",
   "execution_count": null,
   "metadata": {},
   "outputs": [],
   "source": [
    "def hotstuff_forensic_across_views(qc_1, qc_2, pre_qc2_qcs):\n",
    "    epoch_1 = qc_1[\"vote_data\"][\"proposed\"][\"epoch\"]\n",
    "    epoch_2 = qc_2[\"vote_data\"][\"proposed\"][\"epoch\"]\n",
    "    round_1 = qc_1[\"vote_data\"][\"proposed\"][\"round\"]\n",
    "    round_2 = qc_2[\"vote_data\"][\"proposed\"][\"round\"]\n",
    "    id_1 = qc_1[\"signed_ledger_info\"][\"V0\"][\"ledger_info\"][\"commit_info\"][\"id\"]\n",
    "    id_2 = qc_2[\"signed_ledger_info\"][\"V0\"][\"ledger_info\"][\"commit_info\"][\"id\"]\n",
    "    assert epoch_1 == epoch_2\n",
    "    assert round_1 < round_2\n",
    "    # omit checking pre_qc2_qcs is a valid chain of qc ending with qc_2\n",
    "    # omit checking qc_1 and qc_2 are indeed in different branch\n",
    "    # omit the signature checking\n",
    "    signers_1 = qc_1[\"signed_ledger_info\"][\"V0\"][\"signatures\"]\n",
    "    round2qc = {}\n",
    "    for _qc in pre_qc2_qcs:\n",
    "        round2qc[_qc[\"vote_data\"][\"proposed\"][\"round\"]] = _qc\n",
    "    for i in range(round_1, round_2+1):\n",
    "        if i in round2qc:\n",
    "            _qc = round2qc[i]\n",
    "            _round = _qc[\"vote_data\"][\"parent\"][\"round\"]\n",
    "            _id = _qc[\"vote_data\"][\"parent\"][\"id\"]\n",
    "            assert _round < round_1 or _round == round_1 and _id != id_1, \"the first higher qc should violate safety voting rule\"\n",
    "            signers_2 = _qc[\"signed_ledger_info\"][\"V0\"][\"signatures\"]\n",
    "            signers_1 = set(signers_1.keys())\n",
    "            signers_2 = set(signers_2.keys())\n",
    "            return signers_1.intersection(signers_2)\n",
    "    assert false, \"should not reach here\""
   ]
  },
  {
   "cell_type": "markdown",
   "metadata": {},
   "source": [
    "we can extract the qc by hand, and use them to function `hotstuff_forensic_within_view` or `hotstuff_forensic_across_views`"
   ]
  },
  {
   "cell_type": "code",
   "execution_count": null,
   "metadata": {},
   "outputs": [],
   "source": [
    "qc_1 = None\n",
    "qc_2 = None\n",
    "for _qc in qcs[\"2\"].values():\n",
    "    if _qc[\"signed_ledger_info\"][\"V0\"][\"ledger_info\"][\"commit_info\"][\"round\"]==1:\n",
    "        qc_1=_qc\n",
    "for _qc in qcs[\"3\"].values():\n",
    "    if _qc[\"signed_ledger_info\"][\"V0\"][\"ledger_info\"][\"commit_info\"][\"round\"]==1:\n",
    "        qc_2=_qc\n",
    "print(hotstuff_forensic_within_view(qc_1,qc_2))"
   ]
  },
  {
   "cell_type": "code",
   "execution_count": null,
   "metadata": {},
   "outputs": [],
   "source": [
    "qc_1 = None\n",
    "qc_2 = None\n",
    "for _qc in qcs[\"2\"].values():\n",
    "    if _qc[\"signed_ledger_info\"][\"V0\"][\"ledger_info\"][\"commit_info\"][\"round\"]==1:\n",
    "        qc_1=_qc\n",
    "for _qc in qcs[\"5\"].values():\n",
    "    if _qc[\"signed_ledger_info\"][\"V0\"][\"ledger_info\"][\"commit_info\"][\"round\"]==2:\n",
    "        qc_2=_qc\n",
    "print(hotstuff_forensic_across_views(qc_1,qc_2,[qc_2]))"
   ]
  },
  {
   "cell_type": "code",
   "execution_count": null,
   "metadata": {},
   "outputs": [],
   "source": [
    "# print(\"list of accounts: (account who appears more than once is set to be corrupted by twins)\\t\", Counter(twin_nodes.values()))\n",
    "\n",
    "# # the two commit qcs from node 2 and 3\n",
    "# node2_commit = list(commit_qcs[\"2\"].keys())[0]\n",
    "# node3_commit = list(commit_qcs[\"3\"].keys())[0]\n",
    "# forensic_report = hotstuff_forensic_within_view(qcs[\"2\"][node2_commit], qcs[\"3\"][node3_commit])\n",
    "# print(\"forensic report: culprits are\", forensic_report)"
   ]
  },
  {
   "cell_type": "code",
   "execution_count": null,
   "metadata": {},
   "outputs": [],
   "source": []
  }
 ],
 "metadata": {
  "kernelspec": {
   "display_name": "Python 3",
   "language": "python",
   "name": "python3"
  },
  "language_info": {
   "codemirror_mode": {
    "name": "ipython",
    "version": 3
   },
   "file_extension": ".py",
   "mimetype": "text/x-python",
   "name": "python",
   "nbconvert_exporter": "python",
   "pygments_lexer": "ipython3",
   "version": "3.6.9"
  }
 },
 "nbformat": 4,
 "nbformat_minor": 2
}
